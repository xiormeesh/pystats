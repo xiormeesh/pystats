{
 "cells": [
  {
   "cell_type": "code",
   "execution_count": 68,
   "metadata": {},
   "outputs": [
    {
     "name": "stdout",
     "output_type": "stream",
     "text": [
      "0.55\n"
     ]
    }
   ],
   "source": [
    "# inspired by theoretical versus experimental probability:\n",
    "# https://www.khanacademy.org/math/statistics-probability/probability-library/randomness-probability-and-simulation/v/experimental-versus-theoretical-probability-simulation\n",
    "\n",
    "import random\n",
    "\n",
    "THROWS_NUMBER = 3\n",
    "THRESHOLD = 10\n",
    "TRIALS_NUMBER = 100\n",
    "\n",
    "def is_winner_trial_game(throws_number, threshold):\n",
    "    result = sum(random.randint(1,6) for x in range(throws_number))\n",
    "    return result >= threshold\n",
    "\n",
    "def generate_games(trials, throws_number, threshold):\n",
    "    \n",
    "    games_won = 0\n",
    "    \n",
    "    for _ in range(trials): \n",
    "        if is_winner_trial_game(throws_number, threshold):\n",
    "            games_won += 1\n",
    "            \n",
    "    print(games_won/trials)\n",
    "\n",
    "generate_games(TRIALS_NUMBER, THROWS_NUMBER, THRESHOLD)\n",
    "\n"
   ]
  },
  {
   "cell_type": "code",
   "execution_count": 71,
   "metadata": {},
   "outputs": [
    {
     "data": {
      "text/plain": [
       "Fraction(1, 2)"
      ]
     },
     "execution_count": 71,
     "metadata": {},
     "output_type": "execute_result"
    }
   ],
   "source": [
    "# from Peter Norvig on probabilities:\n",
    "# https://nbviewer.jupyter.org/url/norvig.com/ipython/Probability.ipynb\n",
    "\n",
    "import fractions\n",
    "\n",
    "def P(event, space):\n",
    "    \"The probability of an event, given the sample space of outcomes\"\n",
    "    return fractions.Fraction(len(event & space), len(space))\n",
    "\n",
    "# for intersect (&) to work we need to use set, not list\n",
    "space = {1,2,3,4,5,6}\n",
    "event = {2,4,6}\n",
    "\n",
    "P(event, space)"
   ]
  },
  {
   "cell_type": "code",
   "execution_count": 77,
   "metadata": {},
   "outputs": [
    {
     "data": {
      "text/plain": [
       "2598960"
      ]
     },
     "execution_count": 77,
     "metadata": {},
     "output_type": "execute_result"
    }
   ],
   "source": [
    "# n choose k\n",
    "import math\n",
    "\n",
    "def calculate_combinations(n, k):\n",
    "    # another way is to take the number of permutations and divide it by factorial of k\n",
    "    return math.factorial(n) // (math.factorial(n-k) * math.factorial(k))\n",
    "\n",
    "calculate_combinations(52,5)"
   ]
  },
  {
   "cell_type": "code",
   "execution_count": null,
   "metadata": {},
   "outputs": [],
   "source": []
  }
 ],
 "metadata": {
  "kernelspec": {
   "display_name": "Python 3",
   "language": "python",
   "name": "python3"
  },
  "language_info": {
   "codemirror_mode": {
    "name": "ipython",
    "version": 3
   },
   "file_extension": ".py",
   "mimetype": "text/x-python",
   "name": "python",
   "nbconvert_exporter": "python",
   "pygments_lexer": "ipython3",
   "version": "3.6.7"
  }
 },
 "nbformat": 4,
 "nbformat_minor": 2
}
