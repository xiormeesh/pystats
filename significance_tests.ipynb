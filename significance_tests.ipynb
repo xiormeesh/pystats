{
 "cells": [
  {
   "cell_type": "markdown",
   "metadata": {},
   "source": [
    "[Link to videos and exercises](https://www.khanacademy.org/math/statistics-probability/significance-tests-one-sample)"
   ]
  },
  {
   "cell_type": "code",
   "execution_count": 1,
   "metadata": {},
   "outputs": [],
   "source": [
    "# a cell to import modules and define helper functions\n",
    "import math\n",
    "import scipy.stats as ss\n",
    "\n",
    "def calculate_norm_cdf(lower_bound, upper_bound, mu, sigma):\n",
    "    cdf_lower = ss.norm.cdf(lower_bound, mu, sigma)\n",
    "    cdf_upper = ss.norm.cdf(upper_bound, mu, sigma)\n",
    "    interval = cdf_upper-cdf_lower\n",
    "    return interval"
   ]
  },
  {
   "cell_type": "markdown",
   "metadata": {},
   "source": [
    "To perform a **signifiance test**:\n",
    "* Define:\n",
    "    * null hypotheses (H0), the hypotheses currently believed to be true \n",
    "    * alternative hypotheses (Ha or H1), the challenging hypotheses\n",
    "* Set significance level ($\\alpha$, usually 0.05 or 0.10)\n",
    "* Take a sample to find p-value\n",
    "\n",
    "If:\n",
    "* p-value < significance level: reject H0 && accept Ha\n",
    "* p-value >= significance: fail to reject H0 (not enough evidence)\n",
    "\n",
    "Error types:\n",
    "* type 1 error: rejecting H0 that is true\n",
    "* type 2 error: failing to reject H0 that is false\n",
    "\n",
    "Impact of changing significance level (threshold for determining which hypotheses \"wins\"):\n",
    "* increasing $\\alpha$: increase type 1 error, decrease type 2 error\n",
    "* decreasing $\\alpha$: decrease type 1 error, increase type 2 error\n",
    "\n",
    "![](img/significance_tests_p0.png)"
   ]
  },
  {
   "cell_type": "markdown",
   "metadata": {},
   "source": [
    "## 1. Calculating the test statistic in a z test for a proportion\n",
    "\n",
    "$z =  \\frac{statistic - parameter}{standard\\ deviation\\ of\\ statistic}\n",
    "=\n",
    "\\frac{\\hat{p} - p_0}\n",
    "{\\sqrt{\\frac{p_0(1-p_0)}{n}}}$\n",
    " \n",
    "where:\n",
    "\n",
    "$\\hat{p}$ is the sample proportion\n",
    "\n",
    "$p_0$ is the proportion from the null hypothesis\n",
    "\n",
    "n is the sample size\n",
    "\n",
    "![](img/significance_tests_p1.png)"
   ]
  },
  {
   "cell_type": "code",
   "execution_count": 2,
   "metadata": {},
   "outputs": [
    {
     "name": "stdout",
     "output_type": "stream",
     "text": [
      "z statistic is 2.00\n"
     ]
    }
   ],
   "source": [
    "SAMPLE_SIZE = 100\n",
    "P_0 = 0.9\n",
    "P_SAMPLE = 0.96\n",
    "\n",
    "z = (P_SAMPLE - P_0) / math.sqrt(P_0*(1-P_0)/SAMPLE_SIZE)\n",
    "print(\"z statistic is %.2f\" % z)"
   ]
  },
  {
   "cell_type": "markdown",
   "metadata": {},
   "source": [
    "## 2. Calculating the P-value in a z test for a proportion\n",
    "\n",
    "![](img/significance_tests_p2.png)"
   ]
  },
  {
   "cell_type": "code",
   "execution_count": null,
   "metadata": {},
   "outputs": [],
   "source": [
    "# if alternative hypotheses is p != p0 we need to calculate probability of both tails\n",
    "#IS_TWO_TAILED = True\n",
    "#Z = 1.79\n",
    "\n",
    "IS_TWO_TAILED = True\n",
    "Z = -1.5\n",
    "\n",
    "# since we have z-score for distribution, mu = 0 and sigma = 1\n",
    "p = calculate_norm_cdf(abs(Z), math.inf, 0, 1)\n",
    "\n",
    "if IS_TWO_TAILED:\n",
    "    p *= 2\n",
    "    \n",
    "print(\"Probability of an event with z-score %.2f is %.3f\" % (Z, p))"
   ]
  },
  {
   "cell_type": "markdown",
   "metadata": {},
   "source": [
    "## 3. Calculating the test statistic in a t test for a mean\n",
    "\n",
    "$t =  \\frac{statistic - parameter}{standard\\ error\\ of\\ statistic} = \n",
    "\\frac{\\bar{x} - \\mu_0}{\\frac{s_x}{\\sqrt{n}}}\n",
    "$\n",
    "\n",
    "where:\n",
    "\n",
    "$\\bar{x}$ sample mean\n",
    "\n",
    "$\\mu_0$ mean for null hypotheses\n",
    "\n",
    "$s_x$ standard error of sample mean\n",
    "\n",
    "![](img/significance_tests_p3.png)"
   ]
  },
  {
   "cell_type": "code",
   "execution_count": null,
   "metadata": {},
   "outputs": [],
   "source": [
    "#H0_MU = 2.5\n",
    "#SAMPLE_MU = 2.8\n",
    "#SAMPLE_SIGMA = 0.8\n",
    "#SAMPLE_SIZE = 16\n",
    "\n",
    "H0_MU = 68\n",
    "SAMPLE_MU = 67\n",
    "SAMPLE_SIGMA = 1\n",
    "SAMPLE_SIZE = 100\n",
    "\n",
    "t = (SAMPLE_MU - H0_MU) / (SAMPLE_SIGMA/math.sqrt(SAMPLE_SIZE))\n",
    "print(\"t-score is %.2f\" % t)"
   ]
  },
  {
   "cell_type": "markdown",
   "metadata": {},
   "source": [
    "## 4. \n",
    "\n",
    "![](img/significance_tests_p4.png)"
   ]
  },
  {
   "cell_type": "code",
   "execution_count": null,
   "metadata": {},
   "outputs": [],
   "source": [
    "# T_SCORE = -1.9\n",
    "# SAMPLE_SIZE = 7\n",
    "# IS_TWO_TAILED = False\n",
    "\n",
    "T_SCORE = -1.368\n",
    "SAMPLE_SIZE = 11\n",
    "IS_TWO_TAILED = False\n",
    "\n",
    "p = ss.t.cdf(-abs(T_SCORE), SAMPLE_SIZE-1)\n",
    "\n",
    "if IS_TWO_TAILED:\n",
    "    p *= 2\n",
    "\n",
    "print(\"Probability of this sample is %.3f\" % p)"
   ]
  },
  {
   "cell_type": "code",
   "execution_count": null,
   "metadata": {},
   "outputs": [],
   "source": []
  }
 ],
 "metadata": {
  "kernelspec": {
   "display_name": "Python 3",
   "language": "python",
   "name": "python3"
  },
  "language_info": {
   "codemirror_mode": {
    "name": "ipython",
    "version": 3
   },
   "file_extension": ".py",
   "mimetype": "text/x-python",
   "name": "python",
   "nbconvert_exporter": "python",
   "pygments_lexer": "ipython3",
   "version": "3.6.7"
  }
 },
 "nbformat": 4,
 "nbformat_minor": 2
}
