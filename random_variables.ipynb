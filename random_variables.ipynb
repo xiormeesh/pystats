{
 "cells": [
  {
   "cell_type": "markdown",
   "metadata": {},
   "source": [
    "Normal distribution percentages:\n",
    "    68.27% - 1 standard deviation from the mean\n",
    "    95.45% - 2 stds\n",
    "    99.73% - 3 stds"
   ]
  },
  {
   "cell_type": "markdown",
   "metadata": {},
   "source": [
    "mean = expected value = average\n",
    "\n",
    "mean = sum(relative frequency * value)\n",
    "\n",
    "relative frequency = number of units / total number of units\n"
   ]
  },
  {
   "cell_type": "markdown",
   "metadata": {},
   "source": [
    "# Discrete Random Variables"
   ]
  },
  {
   "cell_type": "markdown",
   "metadata": {},
   "source": [
    "Problem 1:\n",
    "![Discrete Random Variables: Problem 1](img/random_p1.png)"
   ]
  },
  {
   "cell_type": "code",
   "execution_count": 1,
   "metadata": {},
   "outputs": [
    {
     "name": "stdout",
     "output_type": "stream",
     "text": [
      "Variance is 9990000.00 \n",
      "Standard deviation is 3160.70\n"
     ]
    }
   ],
   "source": [
    "# solution 1:\n",
    "# calculate std knowing the mean, values and their probabilities \n",
    "\n",
    "import math\n",
    "\n",
    "MU = 100\n",
    "values = [200, -99800]\n",
    "probabilities = [0.999, 0.001]\n",
    "\n",
    "# first we need to find variance\n",
    "# to do so we calculate:\n",
    "# 1. how far each actual value from the mean is\n",
    "# 2. raise it to the second power\n",
    "# 3. multiply by its probability\n",
    "\n",
    "variance = 0\n",
    "for value, probability in zip(values, probabilities):\n",
    "    variance += (value - MU)**2 * probability\n",
    "    \n",
    "sigma = math.sqrt(variance)\n",
    "\n",
    "print(\"Variance is %.2f \" % variance)\n",
    "print(\"Standard deviation is %.2f\"% sigma)"
   ]
  },
  {
   "cell_type": "markdown",
   "metadata": {},
   "source": [
    "# Normal distribution"
   ]
  },
  {
   "cell_type": "markdown",
   "metadata": {},
   "source": []
  },
  {
   "cell_type": "code",
   "execution_count": 24,
   "metadata": {},
   "outputs": [
    {
     "name": "stdout",
     "output_type": "stream",
     "text": [
      "Probability that sample probability is < 0.47 for sample of 400, when probability of population is 0.43: 0.95\n"
     ]
    }
   ],
   "source": [
    "import math\n",
    "import scipy.stats as ss\n",
    "\n",
    "SAMPLE_SIZE = 400\n",
    "MU_SAMPLE_UPPER_BOUND = 0.47\n",
    "MU_POLPULATION = 0.43\n",
    "sigma = math.sqrt(MU_POLPULATION*(1-MU_POLPULATION)/SAMPLE_SIZE)\n",
    "\n",
    "cumulative_probability = ss.norm.cdf(MU_SAMPLE_UPPER_BOUND, MU_POLPULATION, sigma)\n",
    "print(\"Probability that sample probability is < %.2f for sample of %d, \\\n",
    "when probability of population is %.2f: %.2f\" % (MU_SAMPLE_UPPER_BOUND, SAMPLE_SIZE, MU_POLPULATION, cumulative_probability))"
   ]
  },
  {
   "cell_type": "markdown",
   "metadata": {},
   "source": [
    "# Binomial distribution"
   ]
  },
  {
   "cell_type": "markdown",
   "metadata": {},
   "source": [
    "Problem 1:\n",
    "![Binomial Distribution: Problem 1](img/random_p2.png)"
   ]
  },
  {
   "cell_type": "code",
   "execution_count": 2,
   "metadata": {},
   "outputs": [
    {
     "name": "stdout",
     "output_type": "stream",
     "text": [
      "Probability that we have exactly 2 sucesses is 0.24\n",
      "Probability that we have <= 1 sucesses is 0.03\n",
      "Probability that we have > 1 sucesses is 0.97\n"
     ]
    }
   ],
   "source": [
    "# this snippet covers a both cumulative (as in the example) probability\n",
    "# as well as probability of a specific discrete random variable\n",
    "# calculating probability of an event\n",
    "\n",
    "import scipy.stats as ss\n",
    "\n",
    "TOTAL_TRIALS = 3\n",
    "SUCCESS_RATE = 0.9\n",
    "\n",
    "# example 1: exact value (binompdf)\n",
    "\n",
    "TARGET_SUCCESSES_NUMBER = 2\n",
    "\n",
    "probability = ss.binom.pmf(TARGET_SUCCESSES_NUMBER, TOTAL_TRIALS, SUCCESS_RATE)\n",
    "print(\"Probability that we have exactly %d sucesses is %.2f\" % (TARGET_SUCCESSES_NUMBER, probability))\n",
    "\n",
    "# example 2: range (binomcdf)\n",
    "\n",
    "TARGET_LESS_OR_EQUAL_NUMBER = 1\n",
    "\n",
    "cumulative_probability = ss.binom.cdf(TARGET_LESS_OR_EQUAL_NUMBER, TOTAL_TRIALS, SUCCESS_RATE)\n",
    "print(\"Probability that we have <= %d sucesses is %.2f\" % (TARGET_LESS_OR_EQUAL_NUMBER, cumulative_probability))\n",
    "# this is the solution for the exact above problem, p >= 2 is the same as 1 - (p < 1) for a discrete variable\n",
    "print(\"Probability that we have > %d sucesses is %.2f\" % (TARGET_LESS_OR_EQUAL_NUMBER, 1-cumulative_probability))"
   ]
  },
  {
   "cell_type": "markdown",
   "metadata": {},
   "source": [
    "Problem 2:\n",
    "![Binomial Distribution: Problem 2](img/random_p4.png)"
   ]
  },
  {
   "cell_type": "code",
   "execution_count": 3,
   "metadata": {},
   "outputs": [
    {
     "name": "stdout",
     "output_type": "stream",
     "text": [
      "4.5\n",
      "1.7748239349298849\n"
     ]
    }
   ],
   "source": [
    "# mean and std of a binomial random variable\n",
    "\n",
    "import math\n",
    "\n",
    "sample = 15\n",
    "success_rate = 0.3\n",
    "\n",
    "mean = sample * success_rate\n",
    "print(mean)\n",
    "\n",
    "variance = sample * success_rate * (1-success_rate)\n",
    "std = math.sqrt(variance)\n",
    "print(std)"
   ]
  },
  {
   "cell_type": "markdown",
   "metadata": {},
   "source": [
    "# Geometric distribution"
   ]
  },
  {
   "cell_type": "markdown",
   "metadata": {},
   "source": [
    "Problem 1:\n",
    "![Geometric Distribution: Problem 1](img/random_p3.png)"
   ]
  },
  {
   "cell_type": "code",
   "execution_count": 4,
   "metadata": {},
   "outputs": [
    {
     "name": "stdout",
     "output_type": "stream",
     "text": [
      "Probability that we have exactly 2 sucesses is 0.24\n",
      "Probability that we have <= 2 sucesses is 0.84\n",
      "Probability that we have > 2 sucesses is 0.16\n"
     ]
    }
   ],
   "source": [
    "# geometric random variable\n",
    "\n",
    "import scipy.stats as ss\n",
    "\n",
    "SUCCESS_RATE = 0.6\n",
    "TARGET_NUMBER = 2\n",
    "\n",
    "probability = ss.geom.pmf(TARGET_NUMBER, SUCCESS_RATE)\n",
    "print(\"Probability that we have exactly %d sucesses is %.2f\" % (TARGET_NUMBER, probability))\n",
    "\n",
    "TARGET_LESS_OR_EQUAL_NUMBER = 2\n",
    "\n",
    "cumulative_probability = ss.geom.cdf(TARGET_LESS_OR_EQUAL_NUMBER, SUCCESS_RATE)\n",
    "print(\"Probability that we have <= %d sucesses is %.2f\" % (TARGET_LESS_OR_EQUAL_NUMBER, cumulative_probability))\n",
    "# this is the solution for the exact above problem, p < 3 is the same as p <= 2 for a discrete variable\n",
    "print(\"Probability that we have > %d sucesses is %.2f\" % (TARGET_LESS_OR_EQUAL_NUMBER, 1-cumulative_probability))\n"
   ]
  },
  {
   "cell_type": "markdown",
   "metadata": {},
   "source": [
    "## Snippets"
   ]
  },
  {
   "cell_type": "code",
   "execution_count": 5,
   "metadata": {},
   "outputs": [
    {
     "name": "stdout",
     "output_type": "stream",
     "text": [
      "0.55\n"
     ]
    }
   ],
   "source": [
    "# inspired by theoretical versus experimental probability:\n",
    "# https://www.khanacademy.org/math/statistics-probability/probability-library/randomness-probability-and-simulation/v/experimental-versus-theoretical-probability-simulation\n",
    "\n",
    "import random\n",
    "\n",
    "THROWS_NUMBER = 3\n",
    "THRESHOLD = 10\n",
    "TRIALS_NUMBER = 100\n",
    "\n",
    "def is_winner_trial_game(throws_number, threshold):\n",
    "    result = sum(random.randint(1,6) for x in range(throws_number))\n",
    "    return result >= threshold\n",
    "\n",
    "def generate_games(trials, throws_number, threshold):\n",
    "    \n",
    "    games_won = 0\n",
    "    \n",
    "    for _ in range(trials): \n",
    "        if is_winner_trial_game(throws_number, threshold):\n",
    "            games_won += 1\n",
    "            \n",
    "    print(games_won/trials)\n",
    "\n",
    "generate_games(TRIALS_NUMBER, THROWS_NUMBER, THRESHOLD)\n",
    "\n"
   ]
  },
  {
   "cell_type": "code",
   "execution_count": 6,
   "metadata": {},
   "outputs": [
    {
     "data": {
      "text/plain": [
       "1"
      ]
     },
     "execution_count": 6,
     "metadata": {},
     "output_type": "execute_result"
    }
   ],
   "source": [
    "# n choose k\n",
    "import math\n",
    "\n",
    "def calculate_combinations(n, k):\n",
    "    # another way is to take the number of permutations and divide it by factorial of k\n",
    "    return math.factorial(n) // (math.factorial(n-k) * math.factorial(k))\n",
    "\n",
    "calculate_combinations(3,0)"
   ]
  },
  {
   "cell_type": "code",
   "execution_count": 7,
   "metadata": {},
   "outputs": [
    {
     "data": {
      "text/plain": [
       "Fraction(1, 2)"
      ]
     },
     "execution_count": 7,
     "metadata": {},
     "output_type": "execute_result"
    }
   ],
   "source": [
    "# from Peter Norvig on probabilities:\n",
    "# https://nbviewer.jupyter.org/url/norvig.com/ipython/Probability.ipynb\n",
    "\n",
    "import fractions\n",
    "\n",
    "def P(event, space):\n",
    "    \"The probability of an event, given the sample space of outcomes\"\n",
    "    return fractions.Fraction(len(event & space), len(space))\n",
    "\n",
    "# for intersect (&) to work we need to use set, not list\n",
    "space = {1,2,3,4,5,6}\n",
    "event = {2,4,6}\n",
    "\n",
    "P(event, space)"
   ]
  }
 ],
 "metadata": {
  "kernelspec": {
   "display_name": "Python 3",
   "language": "python",
   "name": "python3"
  },
  "language_info": {
   "codemirror_mode": {
    "name": "ipython",
    "version": 3
   },
   "file_extension": ".py",
   "mimetype": "text/x-python",
   "name": "python",
   "nbconvert_exporter": "python",
   "pygments_lexer": "ipython3",
   "version": "3.6.7"
  }
 },
 "nbformat": 4,
 "nbformat_minor": 2
}
