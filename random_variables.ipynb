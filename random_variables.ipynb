{
 "cells": [
  {
   "cell_type": "markdown",
   "metadata": {},
   "source": [
    "[Link to videos and exercises](https://www.khanacademy.org/math/statistics-probability/random-variables-stats-library)"
   ]
  },
  {
   "cell_type": "code",
   "execution_count": 1,
   "metadata": {},
   "outputs": [],
   "source": [
    "# a cell to import modules and define helper functions\n",
    "import math\n",
    "import numpy\n",
    "import scipy.stats as ss\n",
    "\n",
    "def calculate_norm_cdf(lower, upper, mu, sigma):\n",
    "    \n",
    "    lower_bound = lower if isinstance(lower, int) else -math.inf\n",
    "    upper_bound = upper if isinstance(upper, int) else math.inf\n",
    "    \n",
    "    cdf_lower = ss.norm.cdf(lower_bound, mu, sigma)\n",
    "    cdf_upper = ss.norm.cdf(upper_bound, mu, sigma)\n",
    "    interval = cdf_upper-cdf_lower\n",
    "    \n",
    "    print(\"Probability of %.2f < X < %.2f is %.2f\" % (lower_bound, upper_bound, interval))\n",
    "    \n",
    "    return interval\n",
    "\n",
    "def calculate_combinations(n, k):\n",
    "    # calculating binomial coefficient\n",
    "    return math.factorial(n) // (math.factorial(n-k) * math.factorial(k))"
   ]
  },
  {
   "cell_type": "markdown",
   "metadata": {},
   "source": [
    "# 1. Discrete random variables\n",
    "\n",
    "$\\sigma_X = \\sqrt{\\sum{(x_i - \\mu_X)^2 p_i}}$\n",
    "\n",
    "where:\n",
    "\n",
    "$\\sigma_X$ is a standard deviation of a discrete random variable X\n",
    "\n",
    "$x_i$ is each specific outcome\n",
    "\n",
    "$\\mu_X$ is the mean of X\n",
    "\n",
    "$p_i$ is probability of each specifc outcome"
   ]
  },
  {
   "cell_type": "markdown",
   "metadata": {},
   "source": [
    "![](img/random_variables_p1.png)"
   ]
  },
  {
   "cell_type": "code",
   "execution_count": 4,
   "metadata": {},
   "outputs": [
    {
     "name": "stdout",
     "output_type": "stream",
     "text": [
      "Standard deviation is 3160.70\n"
     ]
    }
   ],
   "source": [
    "MU = 100\n",
    "VALUES = [200, -99800]\n",
    "PROBALITIES = [0.999, 0.001]\n",
    "\n",
    "variance = 0\n",
    "for value, probability in zip(VALUES, PROBALITIES):\n",
    "    variance += (value - MU)**2 * probability\n",
    "    \n",
    "sigma = math.sqrt(variance)\n",
    "\n",
    "print(\"Standard deviation is %.2f\"% sigma)"
   ]
  },
  {
   "cell_type": "markdown",
   "metadata": {},
   "source": [
    "# 2. Continuous random variables"
   ]
  },
  {
   "cell_type": "markdown",
   "metadata": {},
   "source": [
    "![](img/random_variables_p2.png)"
   ]
  },
  {
   "cell_type": "code",
   "execution_count": 5,
   "metadata": {},
   "outputs": [
    {
     "name": "stdout",
     "output_type": "stream",
     "text": [
      "Probability of 1497.00 < X < 1819.00 is 0.34\n"
     ]
    }
   ],
   "source": [
    "MU = 1497\n",
    "SIGMA = 322\n",
    "\n",
    "# set to None if there is no limit\n",
    "LOWER_BOUND = 1497\n",
    "UPPER_BOUND = 1819\n",
    "\n",
    "p = calculate_norm_cdf(LOWER_BOUND, UPPER_BOUND, MU, SIGMA)"
   ]
  },
  {
   "cell_type": "markdown",
   "metadata": {},
   "source": [
    "# 3. Combining normal random variables\n",
    "\n",
    "![](img/random_variables_p3.png)"
   ]
  },
  {
   "cell_type": "code",
   "execution_count": 2,
   "metadata": {},
   "outputs": [
    {
     "name": "stdout",
     "output_type": "stream",
     "text": [
      "Probability of -inf < X < 575.00 is 0.92\n"
     ]
    }
   ],
   "source": [
    "MUS = [370, 170]\n",
    "SIGMAS = [24, 7]\n",
    "\n",
    "# set None if there is no limit\n",
    "LOWER_BOUND = None\n",
    "UPPER_BOUND = 575\n",
    "\n",
    "# True for summation, False for subscraction\n",
    "IS_SUM = True\n",
    "\n",
    "sigma = math.sqrt(sum([sigma**2 for sigma in SIGMAS]))\n",
    "\n",
    "if IS_SUM:\n",
    "    mu = numpy.mean(MUS) * len(MUS)\n",
    "else:\n",
    "    mu = abs(MUS[0] - MUS[1])\n",
    "\n",
    "p = calculate_norm_cdf(LOWER_BOUND, UPPER_BOUND, mu, sigma)"
   ]
  },
  {
   "cell_type": "markdown",
   "metadata": {},
   "source": [
    "# 4. Binomial random variables"
   ]
  },
  {
   "cell_type": "markdown",
   "metadata": {},
   "source": [
    "Conditions for binomial random variables:\n",
    "* the outcome of each trial can be classified as either success or failure\n",
    "* each trial is independent\n",
    "* there is fixed number of trials\n",
    "* probability **p** of success on each trial remains consistant\n",
    "\n",
    "Calculating binomial probability:\n",
    "\n",
    "$\\binom{n}{k} \\cdot p_{success}^k \\cdot p_{failure}^{n-k}$\n",
    "\n",
    "where\n",
    "\n",
    "$\\binom{n}{k}$ is binomial coefficient (n choose k)\n",
    "\n",
    "$p_{success}^k$ is probability of success of each independant trial to $k^{th}$ power\n",
    "\n",
    "$p_{failure}^{n-k}$ is probability of failure of each independant trial to $(n-k)^{th}$ power\n",
    "\n",
    "![](img/random_variables_p4.png)"
   ]
  },
  {
   "cell_type": "code",
   "execution_count": 7,
   "metadata": {},
   "outputs": [
    {
     "name": "stdout",
     "output_type": "stream",
     "text": [
      "Probability of 4.00 <= X <= inf successes is 0.34\n"
     ]
    }
   ],
   "source": [
    "TOTAL_TRIALS = 5\n",
    "SUCCESS_RATE = 0.6\n",
    "\n",
    "TARGET_LOWER_BOUND = 4\n",
    "TARGET_UPPER_BOUND = None\n",
    "\n",
    "def calculate_binom_cdf(lower, upper, trials, success_rate):\n",
    "    \n",
    "    lower_bound = lower if isinstance(lower, int) else -math.inf\n",
    "    upper_bound = upper if isinstance(upper, int) else math.inf\n",
    "    \n",
    "    cdf_lower = ss.binom.cdf(lower_bound-1, trials, success_rate)\n",
    "    cdf_upper = ss.binom.cdf(upper_bound, trials, success_rate)\n",
    "    interval = cdf_upper-cdf_lower\n",
    "    \n",
    "    print(\"Probability of %.2f <= X <= %.2f successes is %.2f\"% (lower_bound, upper_bound, interval))\n",
    "\n",
    "    return interval\n",
    "\n",
    "# pmf\n",
    "if TARGET_LOWER_BOUND == TARGET_UPPER_BOUND:\n",
    "    probability = ss.binom.pmf(TARGET_LOWER_BOUND, TOTAL_TRIALS, SUCCESS_RATE)\n",
    "    print(\"Probability that we have exactly %d sucesses is %.2f\" % (TARGET_LOWER_BOUND, probability))\n",
    "    \n",
    "# cdf\n",
    "else:\n",
    "    p = calculate_binom_cdf(TARGET_LOWER_BOUND, TARGET_UPPER_BOUND, TOTAL_TRIALS, SUCCESS_RATE)"
   ]
  },
  {
   "cell_type": "markdown",
   "metadata": {},
   "source": [
    "# 5. Binomial mean and standard deviation\n",
    "\n",
    "![](img/random_variables_p5.png)"
   ]
  },
  {
   "cell_type": "code",
   "execution_count": 8,
   "metadata": {},
   "outputs": [
    {
     "name": "stdout",
     "output_type": "stream",
     "text": [
      "Mean is: 4.5\n",
      "Standard deviation is: 1.8\n"
     ]
    }
   ],
   "source": [
    "TOTAL_TRIALS = 15\n",
    "SUCCESS_RATE = 0.3\n",
    "\n",
    "mu = TOTAL_TRIALS * SUCCESS_RATE\n",
    "print(\"Mean is: %.1f\" % mu)\n",
    "\n",
    "variance = TOTAL_TRIALS * SUCCESS_RATE * (1-SUCCESS_RATE)\n",
    "sigma = math.sqrt(variance)\n",
    "print(\"Standard deviation is: %.1f\" % sigma)"
   ]
  },
  {
   "cell_type": "markdown",
   "metadata": {},
   "source": [
    "# 6. Geometric random variables\n",
    "\n",
    "Conditions for geometric random variables:\n",
    "* variable in question is the number of trials until the first success\n",
    "* the outcome of each trial can be classified as either success or failure\n",
    "* each trial is independent\n",
    "* probability **p** of success on each trial remains consistant"
   ]
  },
  {
   "cell_type": "markdown",
   "metadata": {},
   "source": [
    "![](img/random_variables_p6.png)"
   ]
  },
  {
   "cell_type": "code",
   "execution_count": 9,
   "metadata": {},
   "outputs": [
    {
     "name": "stdout",
     "output_type": "stream",
     "text": [
      "Probability 0.00 <= X <= 2.00 until the first try is 0.64\n"
     ]
    }
   ],
   "source": [
    "SUCCESS_RATE = 0.4\n",
    "\n",
    "TARGET_LOWER_BOUND = 0\n",
    "TARGET_UPPER_BOUND = 2\n",
    "\n",
    "def calculate_geom_cdf(lower, upper, success_rate):\n",
    "    \n",
    "    lower_bound = lower if isinstance(lower, int) else -math.inf\n",
    "    upper_bound = upper if isinstance(upper, int) else math.inf\n",
    "    \n",
    "    cdf_lower = ss.geom.cdf(lower_bound-1, success_rate)\n",
    "    cdf_upper = ss.geom.cdf(upper_bound, success_rate)\n",
    "    interval = cdf_upper-cdf_lower\n",
    "    \n",
    "    print(\"Probability %.2f <= X <= %.2f until the first try is %.2f\"% (lower_bound, upper_bound, interval))\n",
    "\n",
    "    return interval\n",
    "\n",
    "# pmf\n",
    "if TARGET_LOWER_BOUND == TARGET_UPPER_BOUND:\n",
    "    probability = ss.geom.pmf(TARGET_LOWER_BOUND, SUCCESS_RATE)\n",
    "    print(\"Probability that first success will be on %dth try is: %.2f\" % (TARGET_LOWER_BOUND, probability))\n",
    "\n",
    "# cdf\n",
    "else:\n",
    "    p = calculate_geom_cdf(TARGET_LOWER_BOUND, TARGET_UPPER_BOUND, SUCCESS_RATE)"
   ]
  },
  {
   "cell_type": "markdown",
   "metadata": {},
   "source": [
    "# 7. More on expected value\n",
    "![](img/random_variables_p7.png)"
   ]
  },
  {
   "cell_type": "code",
   "execution_count": 10,
   "metadata": {},
   "outputs": [
    {
     "name": "stdout",
     "output_type": "stream",
     "text": [
      "Expected value is: 2.81\n"
     ]
    }
   ],
   "source": [
    "probability_number = 1/10\n",
    "probability_letter = 1/26\n",
    "\n",
    "profitA = 10405 - 5\n",
    "profitB = 100 - 5\n",
    "profitC = 0 - 5\n",
    "\n",
    "pA = probability_number * probability_number * probability_letter\n",
    "# pA is a subset of pB\n",
    "pB = probability_letter - pA\n",
    "pC = 1 - pA - pB\n",
    "\n",
    "expected_value = profitA*pA + profitB*pB + profitC*pC\n",
    "\n",
    "print(\"Expected value is: %.2f\" % expected_value)"
   ]
  }
 ],
 "metadata": {
  "kernelspec": {
   "display_name": "Python 3",
   "language": "python",
   "name": "python3"
  },
  "language_info": {
   "codemirror_mode": {
    "name": "ipython",
    "version": 3
   },
   "file_extension": ".py",
   "mimetype": "text/x-python",
   "name": "python",
   "nbconvert_exporter": "python",
   "pygments_lexer": "ipython3",
   "version": "3.6.7"
  }
 },
 "nbformat": 4,
 "nbformat_minor": 2
}
