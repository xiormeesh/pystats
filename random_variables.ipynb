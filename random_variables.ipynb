{
 "cells": [
  {
   "cell_type": "markdown",
   "metadata": {},
   "source": [
    "[Link to videos and exercises](https://www.khanacademy.org/math/statistics-probability/random-variables-stats-library)"
   ]
  },
  {
   "cell_type": "code",
   "execution_count": 1,
   "metadata": {},
   "outputs": [],
   "source": [
    "# a cell to import modules and define helper functions\n",
    "import math\n",
    "import numpy\n",
    "import scipy.stats as ss\n",
    "\n",
    "def calculate_norm_cdf(lower_bound, upper_bound, mu, sigma):\n",
    "    cdf_lower = ss.norm.cdf(lower_bound, mu, sigma)\n",
    "    cdf_upper = ss.norm.cdf(upper_bound, mu, sigma)\n",
    "    interval = cdf_upper-cdf_lower\n",
    "    return interval\n",
    "\n",
    "def calculate_combinations(n, k):\n",
    "    # calculating binomial coefficient\n",
    "    return math.factorial(n) // (math.factorial(n-k) * math.factorial(k))"
   ]
  },
  {
   "cell_type": "markdown",
   "metadata": {},
   "source": [
    "# 1. Discrete random variables\n",
    "\n",
    "$\\sigma_X = \\sqrt{\\sum{(x_i - \\mu_X)^2 p_i}}$\n",
    "\n",
    "where:\n",
    "\n",
    "$\\sigma_X$ is a standard deviation of a discrete random variable X\n",
    "\n",
    "$x_i$ is each specific outcome\n",
    "\n",
    "$\\mu_X$ is the mean of X\n",
    "\n",
    "$p_i$ is probability of each specifc outcome"
   ]
  },
  {
   "cell_type": "markdown",
   "metadata": {},
   "source": [
    "![](img/random_variables_p1.png)"
   ]
  },
  {
   "cell_type": "code",
   "execution_count": null,
   "metadata": {},
   "outputs": [],
   "source": [
    "MU = 100\n",
    "VALUES = [200, -99800]\n",
    "PROBALITIES = [0.999, 0.001]\n",
    "\n",
    "variance = 0\n",
    "for value, probability in zip(VALUES, PROBALITIES):\n",
    "    variance += (value - MU)**2 * probability\n",
    "    \n",
    "sigma = math.sqrt(variance)\n",
    "\n",
    "print(\"Standard deviation is %.2f\"% sigma)"
   ]
  },
  {
   "cell_type": "markdown",
   "metadata": {},
   "source": [
    "# 2. Continuous random variables"
   ]
  },
  {
   "cell_type": "markdown",
   "metadata": {},
   "source": [
    "![](img/random_variables_p2.png)"
   ]
  },
  {
   "cell_type": "code",
   "execution_count": null,
   "metadata": {},
   "outputs": [],
   "source": [
    "MU = 1497\n",
    "SIGMA = 322\n",
    "\n",
    "# set None if there is no limit\n",
    "LOWER_BOUND = 1497\n",
    "UPPER_BOUND = 1819\n",
    "\n",
    "p = calculate_norm_cdf(LOWER_BOUND or -math.inf, UPPER_BOUND or math.inf, MU, SIGMA)\n",
    "\n",
    "print(\"Probability of %.2f < X < %.2f is %.2f\"\n",
    "    % (LOWER_BOUND, UPPER_BOUND, p))"
   ]
  },
  {
   "cell_type": "markdown",
   "metadata": {},
   "source": [
    "# 3. Combining normal random variables\n",
    "\n",
    "![](img/random_variables_p3.png)"
   ]
  },
  {
   "cell_type": "code",
   "execution_count": null,
   "metadata": {},
   "outputs": [],
   "source": [
    "MUS = [370, 170]\n",
    "SIGMAS = [24, 7]\n",
    "\n",
    "# set None if there is no limit\n",
    "LOWER_BOUND = None\n",
    "UPPER_BOUND = 575\n",
    "\n",
    "# True for summation, False for subscraction\n",
    "IS_SUM = True\n",
    "\n",
    "sigma = math.sqrt(sum([sigma**2 for sigma in SIGMAS]))\n",
    "\n",
    "if IS_SUM:\n",
    "    mu = numpy.mean(MUS) * len(MUS)\n",
    "else:\n",
    "    mu = abs(MUS[0] - MUS[1])\n",
    "\n",
    "p = calculate_norm_cdf(LOWER_BOUND or -math.inf, UPPER_BOUND or math.inf, mu, sigma)\n",
    "print(\"Probability is %.2f\" % p)"
   ]
  },
  {
   "cell_type": "markdown",
   "metadata": {},
   "source": [
    "# 4. Binomial random variables"
   ]
  },
  {
   "cell_type": "markdown",
   "metadata": {},
   "source": [
    "Conditions for binomial random variables:\n",
    "* the outcome of each trial can be classified as either success or failure\n",
    "* each trial is independent\n",
    "* there is fixed number of trials\n",
    "* probability **p** of success on each trial remains consistant\n",
    "\n",
    "Calculating binomial probability:\n",
    "\n",
    "$\\binom{n}{k} \\cdot p_{success}^k \\cdot p_{failure}^{n-k}$\n",
    "\n",
    "where\n",
    "\n",
    "$\\binom{n}{k}$ is binomial coefficient (n choose k)\n",
    "\n",
    "$p_{success}^k$ is probability of success of each independant trial to $k^{th}$ power\n",
    "\n",
    "$p_{failure}^{n-k}$ is probability of failure of each independant trial to $(n-k)^{th}$ power\n",
    "\n",
    "![](img/random_variables_p4.png)"
   ]
  },
  {
   "cell_type": "code",
   "execution_count": null,
   "metadata": {},
   "outputs": [],
   "source": [
    "#TOTAL_TRIALS = 5\n",
    "#SUCCESS_RATE = 0.6\n",
    "\n",
    "#TARGET_LOWER_BOUND = 4\n",
    "#TARGET_UPPER_BOUND = None\n",
    "\n",
    "TOTAL_TRIALS = 5\n",
    "SUCCESS_RATE = 0.6\n",
    "\n",
    "TARGET_LOWER_BOUND = 3\n",
    "TARGET_UPPER_BOUND = 3\n",
    "\n",
    "if TARGET_LOWER_BOUND and TARGET_UPPER_BOUND and TARGET_LOWER_BOUND == TARGET_UPPER_BOUND:\n",
    "    probability = ss.binom.pmf(TARGET_LOWER_BOUND, TOTAL_TRIALS, SUCCESS_RATE)\n",
    "    print(\"Probability that we have exactly %d sucesses is %.2f\" % (TARGET_LOWER_BOUND, probability))\n",
    "else:\n",
    "    # binom.cdf calculates: -inf < p <= TARGET_LOWER_BOUND\n",
    "    if TARGET_LOWER_BOUND or TARGET_LOWER_BOUND != 0:\n",
    "        cumulative_probability = ss.binom.cdf(TARGET_LOWER_BOUND-1, TOTAL_TRIALS, SUCCESS_RATE)\n",
    "        print(\"Probability that we have >= %d sucesses is %.2f\" % (TARGET_LOWER_BOUND, 1- cumulative_probability))\n",
    "    elif TARGET_UPPER_BOUND or TARGET_UPPER_BOUND != 0:\n",
    "        cumulative_probability = ss.binom.cdf(TARGET_UPPER_BOUND, TOTAL_TRIALS, SUCCESS_RATE)\n",
    "        print(\"Probability that we have <= %d sucesses is %.2f\" % (TARGET_UPPER_BOUND, cumulative_probability))"
   ]
  },
  {
   "cell_type": "markdown",
   "metadata": {},
   "source": [
    "# 5. Binomial mean and standard deviation\n",
    "\n",
    "![](img/random_variables_p5.png)"
   ]
  },
  {
   "cell_type": "code",
   "execution_count": null,
   "metadata": {},
   "outputs": [],
   "source": [
    "TOTAL_TRIALS = 15\n",
    "SUCCESS_RATE = 0.3\n",
    "\n",
    "mu = TOTAL_TRIALS * SUCCESS_RATE\n",
    "print(\"Mean is: %.1f\" % mu)\n",
    "\n",
    "variance = TOTAL_TRIALS * SUCCESS_RATE * (1-SUCCESS_RATE)\n",
    "sigma = math.sqrt(variance)\n",
    "print(\"Standard deviation is: %.1f\" % sigma)"
   ]
  },
  {
   "cell_type": "markdown",
   "metadata": {},
   "source": [
    "# 6. Geometric random variables"
   ]
  },
  {
   "cell_type": "markdown",
   "metadata": {},
   "source": [
    "![](img/random_p3.png)"
   ]
  },
  {
   "cell_type": "code",
   "execution_count": null,
   "metadata": {},
   "outputs": [],
   "source": [
    "SUCCESS_RATE = 0.6\n",
    "TARGET_NUMBER = 2\n",
    "\n",
    "probability = ss.geom.pmf(TARGET_NUMBER, SUCCESS_RATE)\n",
    "print(\"Probability that we have exactly %d sucesses is %.2f\" % (TARGET_NUMBER, probability))\n",
    "\n",
    "TARGET_LESS_OR_EQUAL_NUMBER = 2\n",
    "\n",
    "cumulative_probability = ss.geom.cdf(TARGET_LESS_OR_EQUAL_NUMBER, SUCCESS_RATE)\n",
    "print(\"Probability that we have <= %d sucesses is %.2f\" % (TARGET_LESS_OR_EQUAL_NUMBER, cumulative_probability))\n",
    "# this is the solution for the exact above problem, p < 3 is the same as p <= 2 for a discrete variable\n",
    "print(\"Probability that we have > %d sucesses is %.2f\" % (TARGET_LESS_OR_EQUAL_NUMBER, 1-cumulative_probability))"
   ]
  },
  {
   "cell_type": "code",
   "execution_count": null,
   "metadata": {},
   "outputs": [],
   "source": []
  }
 ],
 "metadata": {
  "kernelspec": {
   "display_name": "Python 3",
   "language": "python",
   "name": "python3"
  },
  "language_info": {
   "codemirror_mode": {
    "name": "ipython",
    "version": 3
   },
   "file_extension": ".py",
   "mimetype": "text/x-python",
   "name": "python",
   "nbconvert_exporter": "python",
   "pygments_lexer": "ipython3",
   "version": "3.6.7"
  }
 },
 "nbformat": 4,
 "nbformat_minor": 2
}
