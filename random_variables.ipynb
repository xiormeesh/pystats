{
 "cells": [
  {
   "cell_type": "markdown",
   "metadata": {},
   "source": [
    "[Link to videos and exercises](https://www.khanacademy.org/math/statistics-probability/random-variables-stats-library)\n",
    "\n",
    "# 1. Discrete random variables"
   ]
  },
  {
   "cell_type": "markdown",
   "metadata": {},
   "source": [
    "$\\sigma_X = \\sqrt{\\sum{(x_i - \\mu_X)^2 p_i}}$\n",
    "\n",
    "where:\n",
    "\n",
    "$\\sigma_X$ is a standard deviation of a discrete random variable X\n",
    "\n",
    "$x_i$ is each specific outcome\n",
    "\n",
    "$\\mu_X$ is the mean of X\n",
    "\n",
    "$p_i$ is probability of each specifc outcome"
   ]
  },
  {
   "cell_type": "markdown",
   "metadata": {},
   "source": [
    "![](img/random_variables_p1.png)"
   ]
  },
  {
   "cell_type": "code",
   "execution_count": 1,
   "metadata": {},
   "outputs": [
    {
     "name": "stdout",
     "output_type": "stream",
     "text": [
      "Standard deviation is 3160.70\n"
     ]
    }
   ],
   "source": [
    "import math\n",
    "\n",
    "MU = 100\n",
    "VALUES = [200, -99800]\n",
    "PROBALITIES = [0.999, 0.001]\n",
    "\n",
    "variance = 0\n",
    "for value, probability in zip(VALUES, PROBALITIES):\n",
    "    variance += (value - MU)**2 * probability\n",
    "    \n",
    "sigma = math.sqrt(variance)\n",
    "\n",
    "print(\"Standard deviation is %.2f\"% sigma)"
   ]
  },
  {
   "cell_type": "markdown",
   "metadata": {},
   "source": [
    "# 2. Continuous random variables"
   ]
  },
  {
   "cell_type": "markdown",
   "metadata": {},
   "source": [
    "![](img/random_variables_p2.png)"
   ]
  },
  {
   "cell_type": "code",
   "execution_count": 2,
   "metadata": {},
   "outputs": [
    {
     "name": "stdout",
     "output_type": "stream",
     "text": [
      "Probability of 1497.00 < X < 1819.00 is 0.34\n"
     ]
    }
   ],
   "source": [
    "import math\n",
    "import scipy.stats as ss\n",
    "\n",
    "MU = 1497\n",
    "SIGMA = 322\n",
    "\n",
    "LOWER_BOUND = 1497\n",
    "# use math.inf if upper limit is unlimited\n",
    "UPPER_BOUND = 1819\n",
    "\n",
    "cdf_lower = ss.norm.cdf(LOWER_BOUND, MU, SIGMA)\n",
    "cdf_upper = ss.norm.cdf(UPPER_BOUND, MU, SIGMA)\n",
    "print(\"Probability of %.2f < X < %.2f is %.2f\" \n",
    "    % (LOWER_BOUND, UPPER_BOUND, cdf_upper-cdf_lower))"
   ]
  },
  {
   "cell_type": "markdown",
   "metadata": {},
   "source": [
    "# 3. Combining normal random variables\n",
    "\n",
    "![](img/random_variables_p3.png)"
   ]
  },
  {
   "cell_type": "code",
   "execution_count": 3,
   "metadata": {},
   "outputs": [
    {
     "name": "stdout",
     "output_type": "stream",
     "text": [
      "Probability is 0.92\n"
     ]
    }
   ],
   "source": [
    "import math\n",
    "import numpy\n",
    "import scipy.stats as ss\n",
    "\n",
    "MUS = [370, 170]\n",
    "SIGMAS = [24, 7]\n",
    "LOWER_BOUND = -math.inf\n",
    "UPPER_BOUND = 575\n",
    "# True for difference, False for sum\n",
    "DIFF_FLAG = False\n",
    "\n",
    "def calculate_cdf(lower_bound, upper_bound, mu, sigma):\n",
    "    cdf_lower = ss.norm.cdf(lower_bound, mu, sigma)\n",
    "    cdf_upper = ss.norm.cdf(upper_bound, mu, sigma)\n",
    "    range = cdf_upper-cdf_lower\n",
    "    return range\n",
    "\n",
    "sigma = math.sqrt(sum([sigma**2 for sigma in SIGMAS]))\n",
    "\n",
    "if DIFF_FLAG:\n",
    "    mu = abs(MUS[0] - MUS[1])\n",
    "else:\n",
    "    mu = numpy.mean(MUS) * len(MUS)\n",
    "\n",
    "p = calculate_cdf(LOWER_BOUND, UPPER_BOUND, mu, sigma)\n",
    "print(\"Probability is %.2f\" % p)"
   ]
  },
  {
   "cell_type": "markdown",
   "metadata": {},
   "source": [
    "# 4. Binomial random variables"
   ]
  },
  {
   "cell_type": "markdown",
   "metadata": {},
   "source": [
    "![](img/random_p2.png)"
   ]
  },
  {
   "cell_type": "code",
   "execution_count": 4,
   "metadata": {},
   "outputs": [
    {
     "name": "stdout",
     "output_type": "stream",
     "text": [
      "Probability that we have exactly 2 sucesses is 0.24\n",
      "Probability that we have <= 1 sucesses is 0.03\n",
      "Probability that we have > 1 sucesses is 0.97\n"
     ]
    }
   ],
   "source": [
    "# this snippet covers a both cumulative (as in the example) probability\n",
    "# as well as probability of a specific discrete random variable\n",
    "# calculating probability of an event\n",
    "\n",
    "import scipy.stats as ss\n",
    "\n",
    "TOTAL_TRIALS = 3\n",
    "SUCCESS_RATE = 0.9\n",
    "\n",
    "# example 1: exact value (binompdf)\n",
    "\n",
    "TARGET_SUCCESSES_NUMBER = 2\n",
    "\n",
    "probability = ss.binom.pmf(TARGET_SUCCESSES_NUMBER, TOTAL_TRIALS, SUCCESS_RATE)\n",
    "print(\"Probability that we have exactly %d sucesses is %.2f\" % (TARGET_SUCCESSES_NUMBER, probability))\n",
    "\n",
    "# example 2: range (binomcdf)\n",
    "\n",
    "TARGET_LESS_OR_EQUAL_NUMBER = 1\n",
    "\n",
    "cumulative_probability = ss.binom.cdf(TARGET_LESS_OR_EQUAL_NUMBER, TOTAL_TRIALS, SUCCESS_RATE)\n",
    "print(\"Probability that we have <= %d sucesses is %.2f\" % (TARGET_LESS_OR_EQUAL_NUMBER, cumulative_probability))\n",
    "# this is the solution for the exact above problem, p >= 2 is the same as 1 - (p < 1) for a discrete variable\n",
    "print(\"Probability that we have > %d sucesses is %.2f\" % (TARGET_LESS_OR_EQUAL_NUMBER, 1-cumulative_probability))"
   ]
  },
  {
   "cell_type": "markdown",
   "metadata": {},
   "source": [
    "# 5. Binomial mean and standard deviation\n",
    "\n",
    "![](img/random_p4.png)"
   ]
  },
  {
   "cell_type": "code",
   "execution_count": 5,
   "metadata": {},
   "outputs": [
    {
     "name": "stdout",
     "output_type": "stream",
     "text": [
      "4.5\n",
      "1.7748239349298849\n"
     ]
    }
   ],
   "source": [
    "# mean and std of a binomial random variable\n",
    "\n",
    "import math\n",
    "\n",
    "sample = 15\n",
    "success_rate = 0.3\n",
    "\n",
    "mean = sample * success_rate\n",
    "print(mean)\n",
    "\n",
    "variance = sample * success_rate * (1-success_rate)\n",
    "std = math.sqrt(variance)\n",
    "print(std)"
   ]
  },
  {
   "cell_type": "markdown",
   "metadata": {},
   "source": [
    "# 6. Geometric random variables"
   ]
  },
  {
   "cell_type": "markdown",
   "metadata": {},
   "source": [
    "![](img/random_p3.png)"
   ]
  },
  {
   "cell_type": "code",
   "execution_count": 6,
   "metadata": {},
   "outputs": [
    {
     "name": "stdout",
     "output_type": "stream",
     "text": [
      "Probability that we have exactly 2 sucesses is 0.24\n",
      "Probability that we have <= 2 sucesses is 0.84\n",
      "Probability that we have > 2 sucesses is 0.16\n"
     ]
    }
   ],
   "source": [
    "# geometric random variable\n",
    "\n",
    "import scipy.stats as ss\n",
    "\n",
    "SUCCESS_RATE = 0.6\n",
    "TARGET_NUMBER = 2\n",
    "\n",
    "probability = ss.geom.pmf(TARGET_NUMBER, SUCCESS_RATE)\n",
    "print(\"Probability that we have exactly %d sucesses is %.2f\" % (TARGET_NUMBER, probability))\n",
    "\n",
    "TARGET_LESS_OR_EQUAL_NUMBER = 2\n",
    "\n",
    "cumulative_probability = ss.geom.cdf(TARGET_LESS_OR_EQUAL_NUMBER, SUCCESS_RATE)\n",
    "print(\"Probability that we have <= %d sucesses is %.2f\" % (TARGET_LESS_OR_EQUAL_NUMBER, cumulative_probability))\n",
    "# this is the solution for the exact above problem, p < 3 is the same as p <= 2 for a discrete variable\n",
    "print(\"Probability that we have > %d sucesses is %.2f\" % (TARGET_LESS_OR_EQUAL_NUMBER, 1-cumulative_probability))\n"
   ]
  }
 ],
 "metadata": {
  "kernelspec": {
   "display_name": "Python 3",
   "language": "python",
   "name": "python3"
  },
  "language_info": {
   "codemirror_mode": {
    "name": "ipython",
    "version": 3
   },
   "file_extension": ".py",
   "mimetype": "text/x-python",
   "name": "python",
   "nbconvert_exporter": "python",
   "pygments_lexer": "ipython3",
   "version": "3.6.7"
  }
 },
 "nbformat": 4,
 "nbformat_minor": 2
}
