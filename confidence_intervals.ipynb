{
 "cells": [
  {
   "cell_type": "markdown",
   "metadata": {},
   "source": [
    "Conditions for inference on a proportion:\n",
    "\n",
    "- random \n",
    "- normal\n",
    "\n",
    "    (expect > 10 sucesses || failures) or np > 10 and n(1-p) > 10\n",
    "- independent \n",
    "\n",
    "\tif sampling without replacement, sample should be < 10% of population"
   ]
  },
  {
   "cell_type": "markdown",
   "metadata": {},
   "source": [
    "## Calculating confidence levels and critical values of z*\n",
    "Problem 1: calculate crical value z*\n",
    "![](img/confidence_intervals_p1.png)\n",
    "![](img/confidence_intervals_c1.png)\n",
    "Problem 2: calculate confidence interval\n",
    "![](img/confidence_intervals_p2.png)\n",
    "![](img/confidence_intervals_c2.png)"
   ]
  },
  {
   "cell_type": "code",
   "execution_count": 1,
   "metadata": {},
   "outputs": [
    {
     "name": "stdout",
     "output_type": "stream",
     "text": [
      "For confidence interval of 0.92, we need to be in < 1.751 standard deviations from the mean\n",
      "For critical value z* 1.476, probability is 0.86\n"
     ]
    }
   ],
   "source": [
    "import scipy.stats as ss\n",
    "\n",
    "def z_table_probability(z):\n",
    "    # we need to find probability from -math.inf to -z to find the tails\n",
    "    # and then substract the tails from 1\n",
    "    # 7 + (88) + 7\n",
    "    p = 1 - (ss.norm.cdf(-z) * 2)\n",
    "    print(\"For critical value z* %.3f, probability is %.2f\" % (z, p))\n",
    "\n",
    "def z_table_zscore(p):\n",
    "    # we need to transform p because ppf calculates cumulatively \n",
    "    # and we are passing withing standard deviations from the mean\n",
    "    # for example \"find z of 92% confidence interval\" means we have:\n",
    "    # (7.5 + 85) + 7.5, we need to pass to ppf the probability in brackets\n",
    "    z = ss.norm.ppf(p/2+0.5)\n",
    "    print(\"For confidence interval of %.2f, we need to be in < %.3f standard deviations from the mean\" % (p, z))\n",
    "\n",
    "z_table_zscore(0.92)\n",
    "z_table_probability(1.476)"
   ]
  },
  {
   "cell_type": "code",
   "execution_count": null,
   "metadata": {},
   "outputs": [],
   "source": []
  }
 ],
 "metadata": {
  "kernelspec": {
   "display_name": "Python 3",
   "language": "python",
   "name": "python3"
  },
  "language_info": {
   "codemirror_mode": {
    "name": "ipython",
    "version": 3
   },
   "file_extension": ".py",
   "mimetype": "text/x-python",
   "name": "python",
   "nbconvert_exporter": "python",
   "pygments_lexer": "ipython3",
   "version": "3.6.7"
  }
 },
 "nbformat": 4,
 "nbformat_minor": 2
}
