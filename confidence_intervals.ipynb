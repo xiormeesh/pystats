{
 "cells": [
  {
   "cell_type": "markdown",
   "metadata": {},
   "source": [
    "[Link to videos and excercises](https://www.khanacademy.org/math/statistics-probability/confidence-intervals-one-sample)\n",
    "\n",
    "# 1. Estimating a population proportion\n",
    "\n",
    "Conditions for inference on a proportion:\n",
    "\n",
    "1. Random \n",
    "2. Normal (proportion will always be normal if population is normally distributed and randomness condition is satisfied)\n",
    "    * (expect > 10 sucesses || failures) or np > 10 and n(1-p) > 10\n",
    "    * have more > 30 samples\n",
    "3. Independent \n",
    "    * if sampling without replacement, sample should be < 10% of population"
   ]
  },
  {
   "cell_type": "markdown",
   "metadata": {},
   "source": [
    "## Calculating confidence levels and critical values of z*\n",
    "### Problem 1: calculate crical value z*\n",
    "![](img/confidence_intervals_p1.png)\n",
    "![](img/confidence_intervals_c1.png)\n",
    "### Problem 2: calculate confidence interval\n",
    "![](img/confidence_intervals_p2.png)\n",
    "![](img/confidence_intervals_c2.png)"
   ]
  },
  {
   "cell_type": "code",
   "execution_count": 1,
   "metadata": {},
   "outputs": [
    {
     "name": "stdout",
     "output_type": "stream",
     "text": [
      "For confidence interval of 0.92, we need to be in < 1.751 standard deviations from the mean\n",
      "For critical value z* 1.476, probability is 0.86\n"
     ]
    },
    {
     "data": {
      "text/plain": [
       "0.8600561077685378"
      ]
     },
     "execution_count": 1,
     "metadata": {},
     "output_type": "execute_result"
    }
   ],
   "source": [
    "import scipy.stats as ss\n",
    "\n",
    "def z_table_probability(z):\n",
    "    # we need to find probability from -math.inf to -z to find the tails\n",
    "    # and then substract the tails from 1\n",
    "    # 7 + (88) + 7\n",
    "    p = 1 - (ss.norm.cdf(-z) * 2)\n",
    "    print(\"For critical value z* %.3f, probability is %.2f\" % (z, p))\n",
    "    return p\n",
    "\n",
    "def z_table_zscore(p):\n",
    "    # we need to transform p because ppf calculates cumulatively \n",
    "    # and we are passing withing standard deviations from the mean\n",
    "    # for example \"find z of 92% confidence interval\" means we have:\n",
    "    # (4 + 92) + 4, we need to pass to ppf the probability in brackets\n",
    "    z = ss.norm.ppf(p/2+0.5)\n",
    "    print(\"For confidence interval of %.2f, we need to be in < %.3f standard deviations from the mean\" % (p, z))\n",
    "    return z\n",
    "\n",
    "z_table_zscore(0.92)\n",
    "z_table_probability(1.476)"
   ]
  },
  {
   "cell_type": "markdown",
   "metadata": {},
   "source": [
    "### Problem 3: calculate crical value z*\n",
    "![](img/confidence_intervals_p3.png)\n",
    "\n",
    "$(statistic)  \\pm (critical\\ value)(standard\\ deviation\\ of\\ statistic)$"
   ]
  },
  {
   "cell_type": "markdown",
   "metadata": {},
   "source": [
    "$\\hat{p} \\pm z^*\\sqrt{\\frac{p(1-p)}{n}}$"
   ]
  },
  {
   "cell_type": "code",
   "execution_count": 2,
   "metadata": {},
   "outputs": [
    {
     "name": "stdout",
     "output_type": "stream",
     "text": [
      "Probability of success is 0.48 \n",
      "For confidence interval of 0.90, we need to be in < 1.645 standard deviations from the mean\n",
      "Margin of error for 0.90 confidence interval is 0.058\n",
      "The probability interval is 0.422 - 0.538\n"
     ]
    }
   ],
   "source": [
    "import math\n",
    "\n",
    "CONFIDENCE_LEVEL = 0.9\n",
    "SAMPLE_SIZE = 200\n",
    "SUCCESSES_NUMBER = 96\n",
    "\n",
    "p = SUCCESSES_NUMBER / SAMPLE_SIZE\n",
    "print(\"Probability of success is %.2f \" % p)\n",
    "interval = z_table_zscore(CONFIDENCE_LEVEL) * math.sqrt((p*(1-p))/SAMPLE_SIZE)\n",
    "print(\"Margin of error for %.2f confidence interval is %.3f\" % (CONFIDENCE_LEVEL, interval))\n",
    "print(\"The probability interval is %.3f - %.3f\" % (p-interval, p+interval))"
   ]
  },
  {
   "cell_type": "markdown",
   "metadata": {},
   "source": [
    "### Problem 4: calculate minimal sample size for a margin of error\n",
    "![](img/confidence_intervals_p4.png)\n",
    "\n",
    "We need  to solve \n",
    "$z^*\\sqrt{\\frac{p(1-p)}{n}} \\geq margin\\ of \\ error$ \n",
    "\n",
    "which results in\n",
    "\n",
    "$n \\geq \\frac{z^2}{margin\\ of\\ error^2} p(1-p)\n",
    "$"
   ]
  },
  {
   "cell_type": "code",
   "execution_count": 3,
   "metadata": {},
   "outputs": [
    {
     "name": "stdout",
     "output_type": "stream",
     "text": [
      "For confidence interval of 0.95, we need to be in < 1.960 standard deviations from the mean\n",
      "If we want margin of error less than 2%, sample size should be > 864\n"
     ]
    }
   ],
   "source": [
    "CONFIDENCE_LEVEL = 0.95\n",
    "MARGIN_OF_ERROR = 0.02\n",
    "# set to None if success probability is unknown\n",
    "SUCCESS_PROBABILITY = 0.9\n",
    "\n",
    "# if we don't know p and need to maximize p(1-p) the best value for p is 0.5\n",
    "if not SUCCESS_PROBABILITY:\n",
    "    SUCCESS_PROBABILITY = 0.5\n",
    "\n",
    "# solving algebraically for n\n",
    "min_sample_size = (z_table_zscore(CONFIDENCE_LEVEL)**2 / MARGIN_OF_ERROR**2) * SUCCESS_PROBABILITY * (1-SUCCESS_PROBABILITY)\n",
    "print(\"If we want margin of error less than %d%%, sample size should be > %d\" % (MARGIN_OF_ERROR*100, min_sample_size))"
   ]
  },
  {
   "cell_type": "markdown",
   "metadata": {},
   "source": [
    "# 2. Estimating a population mean"
   ]
  },
  {
   "cell_type": "markdown",
   "metadata": {},
   "source": [
    "To estimate margin of error we can use the formula\n",
    "\n",
    "$\\sigma_\\bar{p} = \\frac{\\sigma}{\\sqrt{n}}$\n",
    "\n",
    "However we usually don't know the population standard deviation $\\sigma$, so we substitute the sample standard deviation $s_x$ as an estimate for $\\sigma$. When we do this, we call it the **standard error** of $\\bar{x}$ to distinguish it from the standard deviation.\n",
    "\n",
    "So formula for standard error of $\\bar{x}$ is:\n",
    "\n",
    "$\\sigma_\\bar{x} \\approx \\frac{s_x}{\\sqrt{n}}$"
   ]
  },
  {
   "cell_type": "markdown",
   "metadata": {},
   "source": [
    "Calculating t-interval for a mean:\n",
    "\n",
    "$\\bar{x} \\pm t^*\\frac{s_x}{\\sqrt{n}}$\n",
    "\n",
    "to find t we need to know: degree of freedom (df, which here could be n-1) and confidence level\n",
    "\n",
    "### Problem 1: Finding the critical value t* for a desired confidence level\n",
    "![](img/confidence_intervals_p5.png)"
   ]
  },
  {
   "cell_type": "code",
   "execution_count": 26,
   "metadata": {},
   "outputs": [
    {
     "name": "stdout",
     "output_type": "stream",
     "text": [
      "t-score for confidence level of 90% with df = 17 is 1.740\n"
     ]
    }
   ],
   "source": [
    "CONFIDENCE_LEVEL = 0.9\n",
    "SAMPLE_SIZE = 18\n",
    "\n",
    "def t_table_zscore(p, n):\n",
    "    # we need to transform p because ppf calculates cumulatively from -inf\n",
    "    # but we need within std from the mean\n",
    "    t = ss.t.ppf(p/2+0.5, n-1)\n",
    "    print(\"t-score for confidence level of %d%% with df = %d is %.3f\" % (p*100, n-1, t))\n",
    "    return t\n",
    "\n",
    "t = t_table_zscore(CONFIDENCE_LEVEL, SAMPLE_SIZE)"
   ]
  },
  {
   "cell_type": "code",
   "execution_count": null,
   "metadata": {},
   "outputs": [],
   "source": []
  }
 ],
 "metadata": {
  "kernelspec": {
   "display_name": "Python 3",
   "language": "python",
   "name": "python3"
  },
  "language_info": {
   "codemirror_mode": {
    "name": "ipython",
    "version": 3
   },
   "file_extension": ".py",
   "mimetype": "text/x-python",
   "name": "python",
   "nbconvert_exporter": "python",
   "pygments_lexer": "ipython3",
   "version": "3.6.7"
  }
 },
 "nbformat": 4,
 "nbformat_minor": 2
}
