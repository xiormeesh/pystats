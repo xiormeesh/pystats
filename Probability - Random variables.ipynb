{
 "cells": [
  {
   "cell_type": "markdown",
   "metadata": {},
   "source": [
    "Normal distribution percentages:\n",
    "    68.27% - 1 standard deviation from the mean\n",
    "    95.45% - 2 stds\n",
    "    99.73% - 3 stds"
   ]
  },
  {
   "cell_type": "markdown",
   "metadata": {},
   "source": [
    "mean = expected value = average\n",
    "\n",
    "mean = sum(relative frequency * value)\n",
    "\n",
    "relative frequency = number of units / total number of units\n"
   ]
  },
  {
   "cell_type": "markdown",
   "metadata": {},
   "source": [
    "# Discrete Random Variables"
   ]
  },
  {
   "attachments": {},
   "cell_type": "markdown",
   "metadata": {},
   "source": [
    "Problem 1:\n",
    "![Discrete Random Variables: Problem 1](img/random_p1.png)"
   ]
  },
  {
   "cell_type": "code",
   "execution_count": 1,
   "metadata": {},
   "outputs": [
    {
     "name": "stdout",
     "output_type": "stream",
     "text": [
      "Variance is 9990000.00 \n",
      "Standard deviation is 3160.70\n"
     ]
    }
   ],
   "source": [
    "# solution 1:\n",
    "# calculate std knowing the mean, values and their probabilities \n",
    "\n",
    "import math\n",
    "\n",
    "MU = 100\n",
    "values = [200, -99800]\n",
    "probabilities = [0.999, 0.001]\n",
    "\n",
    "# first we need to find variance\n",
    "# to do so we calculate:\n",
    "# 1. how far each actual value from the mean is\n",
    "# 2. raise it to the second power\n",
    "# 3. multiply by its probability\n",
    "\n",
    "variance = 0\n",
    "for value, probability in zip(values, probabilities):\n",
    "    variance += (value - MU)**2 * probability\n",
    "    \n",
    "sigma = math.sqrt(variance)\n",
    "\n",
    "print(\"Variance is %.2f \" % variance)\n",
    "print(\"Standard deviation is %.2f\"% sigma)"
   ]
  },
  {
   "cell_type": "code",
   "execution_count": 2,
   "metadata": {},
   "outputs": [
    {
     "name": "stdout",
     "output_type": "stream",
     "text": [
      "0.65\n"
     ]
    }
   ],
   "source": [
    "# inspired by theoretical versus experimental probability:\n",
    "# https://www.khanacademy.org/math/statistics-probability/probability-library/randomness-probability-and-simulation/v/experimental-versus-theoretical-probability-simulation\n",
    "\n",
    "import random\n",
    "\n",
    "THROWS_NUMBER = 3\n",
    "THRESHOLD = 10\n",
    "TRIALS_NUMBER = 100\n",
    "\n",
    "def is_winner_trial_game(throws_number, threshold):\n",
    "    result = sum(random.randint(1,6) for x in range(throws_number))\n",
    "    return result >= threshold\n",
    "\n",
    "def generate_games(trials, throws_number, threshold):\n",
    "    \n",
    "    games_won = 0\n",
    "    \n",
    "    for _ in range(trials): \n",
    "        if is_winner_trial_game(throws_number, threshold):\n",
    "            games_won += 1\n",
    "            \n",
    "    print(games_won/trials)\n",
    "\n",
    "generate_games(TRIALS_NUMBER, THROWS_NUMBER, THRESHOLD)\n",
    "\n"
   ]
  },
  {
   "cell_type": "code",
   "execution_count": 3,
   "metadata": {},
   "outputs": [
    {
     "data": {
      "text/plain": [
       "Fraction(1, 2)"
      ]
     },
     "execution_count": 3,
     "metadata": {},
     "output_type": "execute_result"
    }
   ],
   "source": [
    "# from Peter Norvig on probabilities:\n",
    "# https://nbviewer.jupyter.org/url/norvig.com/ipython/Probability.ipynb\n",
    "\n",
    "import fractions\n",
    "\n",
    "def P(event, space):\n",
    "    \"The probability of an event, given the sample space of outcomes\"\n",
    "    return fractions.Fraction(len(event & space), len(space))\n",
    "\n",
    "# for intersect (&) to work we need to use set, not list\n",
    "space = {1,2,3,4,5,6}\n",
    "event = {2,4,6}\n",
    "\n",
    "P(event, space)"
   ]
  },
  {
   "cell_type": "code",
   "execution_count": 4,
   "metadata": {},
   "outputs": [
    {
     "data": {
      "text/plain": [
       "1"
      ]
     },
     "execution_count": 4,
     "metadata": {},
     "output_type": "execute_result"
    }
   ],
   "source": [
    "# n choose k\n",
    "import math\n",
    "\n",
    "def calculate_combinations(n, k):\n",
    "    # another way is to take the number of permutations and divide it by factorial of k\n",
    "    return math.factorial(n) // (math.factorial(n-k) * math.factorial(k))\n",
    "\n",
    "calculate_combinations(3,0)"
   ]
  },
  {
   "cell_type": "markdown",
   "metadata": {},
   "source": [
    "# Binomial distribution"
   ]
  },
  {
   "cell_type": "code",
   "execution_count": 5,
   "metadata": {},
   "outputs": [
    {
     "name": "stdout",
     "output_type": "stream",
     "text": [
      "0.15360000000000007\n",
      "0.47519999999999996\n"
     ]
    }
   ],
   "source": [
    "# binomial probability example\n",
    "\n",
    "import scipy.stats as ss\n",
    "\n",
    "total_trials = 4\n",
    "success_rate = 0.4\n",
    "\n",
    "# example 1: exact value, binompdf\n",
    "\n",
    "target_successes_number = 3\n",
    "\n",
    "probability = ss.binom.pmf(target_successes_number, total_trials, success_rate)\n",
    "print(probability)\n",
    "\n",
    "# example 2: range, binomcdf\n",
    "\n",
    "target_less_or_equal_number = 1\n",
    "\n",
    "probability = ss.binom.cdf(target_less_or_equal_number, total_trials, success_rate)\n",
    "print(probability)"
   ]
  },
  {
   "cell_type": "code",
   "execution_count": 6,
   "metadata": {},
   "outputs": [
    {
     "name": "stdout",
     "output_type": "stream",
     "text": [
      "4.0\n",
      "1.7888543819998317\n"
     ]
    }
   ],
   "source": [
    "# mean and std of a binomial random variable\n",
    "\n",
    "import math\n",
    "\n",
    "sample = 20\n",
    "success_rate = 0.2\n",
    "\n",
    "mean = sample * success_rate\n",
    "print(mean)\n",
    "\n",
    "variance = sample * success_rate * (1-success_rate)\n",
    "std = math.sqrt(variance)\n",
    "print(std)"
   ]
  },
  {
   "cell_type": "markdown",
   "metadata": {},
   "source": [
    "# Geometric distribution"
   ]
  },
  {
   "cell_type": "code",
   "execution_count": 7,
   "metadata": {},
   "outputs": [
    {
     "name": "stdout",
     "output_type": "stream",
     "text": [
      "0.08177664\n",
      "0.40030464\n",
      "0.59969536\n"
     ]
    }
   ],
   "source": [
    "# geometric random variable\n",
    "\n",
    "import scipy.stats as ss\n",
    "\n",
    "success_rate = 0.12\n",
    "target_number = 4\n",
    "\n",
    "probability = ss.geom.pmf(target_number, success_rate)\n",
    "print(probability)\n",
    "\n",
    "target_less_or_equal_number = 4\n",
    "cumulitive_probability = ss.geom.cdf(target_less_or_equal_number, success_rate)\n",
    "print(cumulitive_probability)\n",
    "print(1-cumulitive_probability)\n"
   ]
  },
  {
   "cell_type": "code",
   "execution_count": null,
   "metadata": {},
   "outputs": [],
   "source": []
  }
 ],
 "metadata": {
  "kernelspec": {
   "display_name": "Python 3",
   "language": "python",
   "name": "python3"
  },
  "language_info": {
   "codemirror_mode": {
    "name": "ipython",
    "version": 3
   },
   "file_extension": ".py",
   "mimetype": "text/x-python",
   "name": "python",
   "nbconvert_exporter": "python",
   "pygments_lexer": "ipython3",
   "version": "3.6.7"
  }
 },
 "nbformat": 4,
 "nbformat_minor": 2
}
