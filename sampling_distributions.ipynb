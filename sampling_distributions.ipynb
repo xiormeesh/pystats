{
 "cells": [
  {
   "cell_type": "markdown",
   "metadata": {},
   "source": [
    "# Mean and standard deviation of sample proportions"
   ]
  },
  {
   "cell_type": "markdown",
   "metadata": {},
   "source": [
    "Standard deviation of a sampling distribution:\n",
    "$$\\sigma_\\hat{p} = \\sqrt{\\frac{p(1-p)}{n}}$$\n",
    "\n",
    "## Problem 1:\n",
    "![Normal distribution, sample distribution: Problem 1](img/random_p5.png)"
   ]
  },
  {
   "cell_type": "code",
   "execution_count": 13,
   "metadata": {},
   "outputs": [
    {
     "name": "stdout",
     "output_type": "stream",
     "text": [
      "Probability of sample probability being < 0.47 for sample of 400, when probability of population is 0.43: 0.95\n"
     ]
    }
   ],
   "source": [
    "import math\n",
    "import scipy.stats as ss\n",
    "\n",
    "SAMPLE_SIZE = 400\n",
    "MU_SAMPLE_UPPER_BOUND = 0.47\n",
    "MU_POLPULATION = 0.43\n",
    "sigma = math.sqrt(MU_POLPULATION*(1-MU_POLPULATION)/SAMPLE_SIZE)\n",
    "\n",
    "cumulative_probability = ss.norm.cdf(MU_SAMPLE_UPPER_BOUND, MU_POLPULATION, sigma)\n",
    "print(\"Probability of sample probability being < %.2f for sample of %d, \\\n",
    "when probability of population is %.2f: %.2f\" % (MU_SAMPLE_UPPER_BOUND, SAMPLE_SIZE, MU_POLPULATION, cumulative_probability))"
   ]
  },
  {
   "cell_type": "markdown",
   "metadata": {},
   "source": [
    "# Mean and standard deviation of sample means"
   ]
  },
  {
   "cell_type": "markdown",
   "metadata": {},
   "source": [
    "Standard deviation of sampling means:\n",
    "\n",
    "$$\\sigma_\\bar{p} = \\frac{\\sigma}{\\sqrt{n}}$$\n",
    "\n",
    "## Problem 1:\n",
    "![Sampling Distribution: Problem 1](img/random_p6.png)"
   ]
  },
  {
   "cell_type": "code",
   "execution_count": 25,
   "metadata": {},
   "outputs": [
    {
     "name": "stdout",
     "output_type": "stream",
     "text": [
      "Sample mean is 20\n",
      "Sample standard deviation is 2.89\n"
     ]
    }
   ],
   "source": [
    "import math\n",
    "\n",
    "POPULATION_MEAN = 20\n",
    "POPULATION_SIGMA = 5\n",
    "SAMPLE_SIZE = 3\n",
    "\n",
    "# sample mean and population mean is the same\n",
    "print(\"Sample mean is %d\" % POPULATION_MEAN)\n",
    "\n",
    "sample_sigma = POPULATION_SIGMA / math.sqrt(SAMPLE_SIZE)\n",
    "print(\"Sample standard deviation is %.2f\" % sample_sigma)"
   ]
  }
 ],
 "metadata": {
  "kernelspec": {
   "display_name": "Python 3",
   "language": "python",
   "name": "python3"
  },
  "language_info": {
   "codemirror_mode": {
    "name": "ipython",
    "version": 3
   },
   "file_extension": ".py",
   "mimetype": "text/x-python",
   "name": "python",
   "nbconvert_exporter": "python",
   "pygments_lexer": "ipython3",
   "version": "3.6.7"
  }
 },
 "nbformat": 4,
 "nbformat_minor": 2
}
