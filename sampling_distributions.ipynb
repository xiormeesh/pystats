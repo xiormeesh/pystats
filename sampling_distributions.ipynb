{
 "cells": [
  {
   "cell_type": "markdown",
   "metadata": {},
   "source": [
    "All excersizes are from [Khan Academy: Sampling Distributions](https://www.khanacademy.org/math/statistics-probability/sampling-distributions-library)"
   ]
  },
  {
   "cell_type": "markdown",
   "metadata": {},
   "source": [
    "# 1. Sampling distribution of a sample proportion"
   ]
  },
  {
   "cell_type": "markdown",
   "metadata": {},
   "source": [
    "Standard deviation of a sampling distribution:\n",
    "\n",
    "$\\sigma_\\hat{p} = \\sqrt{\\frac{p(1-p)}{n}}$\n",
    "\n",
    "where:\n",
    "\n",
    "$\\sigma_\\hat{p}$ is standard deviation of the sample\n",
    "\n",
    "**p** is population proportion\n",
    "\n",
    "**n** is sample size\n",
    "\n",
    "![](img/sample_distributions_p1.png)"
   ]
  },
  {
   "cell_type": "code",
   "execution_count": 1,
   "metadata": {},
   "outputs": [
    {
     "name": "stdout",
     "output_type": "stream",
     "text": [
      "Probability of 0.61 < sample values < 0.65 for sample of 600, when probability of population is 0.63: 0.69\n"
     ]
    }
   ],
   "source": [
    "import math\n",
    "import scipy.stats as ss\n",
    "\n",
    "SAMPLE_SIZE = 600\n",
    "POPULATION_MU = 0.63\n",
    "# since it's probability, both values should be: 0 < p < 1\n",
    "SAMPLE_LOWER_BOUND = 0.61\n",
    "SAMPLE_UPPER_BOUND = 0.65\n",
    "\n",
    "sigma = math.sqrt(POPULATION_MU*(1-POPULATION_MU)/SAMPLE_SIZE)\n",
    "\n",
    "cdf_lower = ss.norm.cdf(SAMPLE_LOWER_BOUND, POPULATION_MU, sigma)\n",
    "cdf_upper = ss.norm.cdf(SAMPLE_UPPER_BOUND, POPULATION_MU, sigma)\n",
    "\n",
    "print(\"Probability of %.2f < sample values < %.2f for sample of %d, when probability of population is %.2f: %.2f\" \n",
    "      % (SAMPLE_LOWER_BOUND, SAMPLE_UPPER_BOUND, SAMPLE_SIZE, POPULATION_MU, cdf_upper-cdf_lower))"
   ]
  },
  {
   "cell_type": "markdown",
   "metadata": {},
   "source": [
    "# 2. Sampling distribution of a sample mean"
   ]
  },
  {
   "cell_type": "markdown",
   "metadata": {},
   "source": [
    "Standard deviation of sampling means:\n",
    "\n",
    "$\\sigma_\\bar{p} = \\frac{\\sigma}{\\sqrt{n}}$\n",
    "\n",
    "where:\n",
    "\n",
    "$\\sigma_\\bar{p}$ is sample mean\n",
    "\n",
    "$\\sigma$ is population mean\n",
    "\n",
    "**n** is sample size\n",
    "\n",
    "![](img/sample_distributions_p2.png)"
   ]
  },
  {
   "cell_type": "code",
   "execution_count": 2,
   "metadata": {},
   "outputs": [
    {
     "name": "stdout",
     "output_type": "stream",
     "text": [
      "Sample's mean is 10.00\n",
      "Sample's standard deviation is 0.20\n",
      "Probability of 9.60 < sample mean < 10.40 for a sample of 100: 0.95\n"
     ]
    }
   ],
   "source": [
    "import math\n",
    "import scipy.stats as ss\n",
    "\n",
    "SAMPLE_SIZE = 100\n",
    "POPULATION_MU = 10\n",
    "POPULATION_SIGMA = 2\n",
    "\n",
    "# we can calculate probabilities for a sample only if population is normally distributed \n",
    "# or if sample size is > 30\n",
    "# if upper bound is not defined we can use math.inf\n",
    "MU_SAMPLE_LOWER_BOUND = 9.6\n",
    "MU_SAMPLE_UPPER_BOUND = 10.4\n",
    "\n",
    "# sample mean and population mean is the same\n",
    "print(\"Sample's mean is %.2f\" % POPULATION_MU)\n",
    "\n",
    "sample_sigma = POPULATION_SIGMA / math.sqrt(SAMPLE_SIZE)\n",
    "print(\"Sample's standard deviation is %.2f\" % sample_sigma)\n",
    "\n",
    "if MU_SAMPLE_LOWER_BOUND and MU_SAMPLE_UPPER_BOUND:\n",
    "    cdf_lower = ss.norm.cdf(MU_SAMPLE_LOWER_BOUND, POPULATION_MU, sample_sigma)\n",
    "    cdf_upper = ss.norm.cdf(MU_SAMPLE_UPPER_BOUND, POPULATION_MU, sample_sigma)\n",
    "    print(\"Probability of %.2f < sample mean < %.2f for a sample of %d: %.2f\" \n",
    "      % (MU_SAMPLE_LOWER_BOUND, MU_SAMPLE_UPPER_BOUND, SAMPLE_SIZE, cdf_upper-cdf_lower))"
   ]
  }
 ],
 "metadata": {
  "kernelspec": {
   "display_name": "Python 3",
   "language": "python",
   "name": "python3"
  },
  "language_info": {
   "codemirror_mode": {
    "name": "ipython",
    "version": 3
   },
   "file_extension": ".py",
   "mimetype": "text/x-python",
   "name": "python",
   "nbconvert_exporter": "python",
   "pygments_lexer": "ipython3",
   "version": "3.6.7"
  }
 },
 "nbformat": 4,
 "nbformat_minor": 2
}
