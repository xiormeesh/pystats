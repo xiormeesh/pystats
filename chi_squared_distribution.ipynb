{
 "cells": [
  {
   "cell_type": "markdown",
   "metadata": {},
   "source": [
    "[Link to videos and excercises](https://www.khanacademy.org/math/statistics-probability/inference-categorical-data-chi-square-tests)"
   ]
  },
  {
   "cell_type": "code",
   "execution_count": 1,
   "metadata": {},
   "outputs": [],
   "source": [
    "# a cell to import modules and define helper functions\n",
    "import math\n",
    "import scipy.stats as ss\n",
    "\n",
    "def calculate_chi_cdf(lower, upper, ddof):\n",
    "    \n",
    "    lower_bound = lower if isinstance(lower, float) else -math.inf\n",
    "    upper_bound = upper if isinstance(upper, float) else math.inf\n",
    "    \n",
    "    # chi2 is for continuous variables\n",
    "    cdf_lower = ss.chi2.cdf(lower_bound, ddof)\n",
    "    cdf_upper = ss.chi2.cdf(upper_bound, ddof)\n",
    "    interval = cdf_upper-cdf_lower\n",
    "    \n",
    "    print(\"Probability of %.3f < X < %.3f is %.4f\" % (lower_bound, upper_bound, interval))\n",
    "    \n",
    "    return interval"
   ]
  },
  {
   "cell_type": "markdown",
   "metadata": {},
   "source": [
    "Conditions for a goodness-of-fit test:\n",
    "* random sampling\n",
    "* large counts (at least 5 expected outcomes in each category)\n",
    "* independent ( <10% of population or sampling with replacement)\n",
    "\n",
    "# Test statistic and P-value in a goodness-of-fit test\n",
    "![](img/chi_squared_p1.png)"
   ]
  },
  {
   "cell_type": "code",
   "execution_count": 2,
   "metadata": {},
   "outputs": [
    {
     "name": "stdout",
     "output_type": "stream",
     "text": [
      "Probability of 8.383 < X < inf is 0.0785\n"
     ]
    }
   ],
   "source": [
    "# expected probability of events, our null hypothesis\n",
    "P_EXPECTED = [20, 25, 20, 20, 15] # in percents, , must sum up to 100\n",
    "# observed outcomes\n",
    "OBSERVED = [16, 11, 16, 18, 19] # in units\n",
    "\n",
    "# calculating total number of outcomes \n",
    "sample_size = sum(OBSERVED)\n",
    "# expected number of outcomes\n",
    "expected = [ sample_size * x/100 for x in P_EXPECTED ]\n",
    "# degrees of freedom is total number of buckets - 1\n",
    "ddof = len(OBSERVED) - 1\n",
    "\n",
    "# summing squared differences of outcomes divided by expeted outcomes\n",
    "chi_squared = sum((o-e)**2/e for o,e in zip(OBSERVED, expected))\n",
    "\n",
    "p = calculate_chi_cdf(chi_squared, None, ddof)"
   ]
  },
  {
   "cell_type": "markdown",
   "metadata": {},
   "source": [
    "# Test statistic and P-value in chi-square tests with two-tables\n",
    "![](img/chi_squared_p2.png)"
   ]
  },
  {
   "cell_type": "code",
   "execution_count": 3,
   "metadata": {},
   "outputs": [
    {
     "name": "stdout",
     "output_type": "stream",
     "text": [
      "Probability of 5.159 < X < inf is 0.0758\n"
     ]
    }
   ],
   "source": [
    "# expected outcomes, our null hypothesis\n",
    "EXPECTED = [35, 21, 14, 15, 9, 6]\n",
    "# observed outcomes\n",
    "OBSERVED = [30, 25, 15, 20, 5, 5]\n",
    "# (col_number-1)(row_num-1)\n",
    "DDOF = 2\n",
    "\n",
    "# summing squared differences of outcomes divided by expeted outcomes\n",
    "chi_squared = sum((o-e)**2/e for o,e in zip(OBSERVED, EXPECTED))\n",
    "\n",
    "p = calculate_chi_cdf(chi_squared, None, DDOF)"
   ]
  },
  {
   "cell_type": "markdown",
   "metadata": {},
   "source": [
    "### Chi-square test usecases:\n",
    "\n",
    "Separate, independent samples or groups (**chi-square test for homogeneity**)\n",
    "\n",
    "A chi-square test can help us when we want to know whether different populations or groups are alike with regards to the distribution of a variable. Our hypotheses would look something like this:\n",
    "\n",
    "- H0: The distribution of a variable is the same in each population or group\n",
    "- Ha: The distribution of a variable differs between some of the populations or groups\n",
    "\n",
    "One sample or group (**chi square test of association/independence**)\n",
    "\n",
    "A chi-square test can help us see whether individuals from a sample who belong to a certain category are more likely than others in the sample to also belong to another category. Our hypotheses would look something like this:\n",
    "\n",
    "- H0: There is no association between the two variables (they are independent)\n",
    "- Ha: There is an association between the two variables (they are not independent)"
   ]
  },
  {
   "cell_type": "code",
   "execution_count": null,
   "metadata": {},
   "outputs": [],
   "source": []
  }
 ],
 "metadata": {
  "kernelspec": {
   "display_name": "Python 3",
   "language": "python",
   "name": "python3"
  },
  "language_info": {
   "codemirror_mode": {
    "name": "ipython",
    "version": 3
   },
   "file_extension": ".py",
   "mimetype": "text/x-python",
   "name": "python",
   "nbconvert_exporter": "python",
   "pygments_lexer": "ipython3",
   "version": "3.6.7"
  }
 },
 "nbformat": 4,
 "nbformat_minor": 2
}
