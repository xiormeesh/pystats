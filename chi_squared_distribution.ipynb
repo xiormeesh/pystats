{
 "cells": [
  {
   "cell_type": "markdown",
   "metadata": {},
   "source": [
    "[Link to videos and excercises](https://www.khanacademy.org/math/statistics-probability/inference-categorical-data-chi-square-tests)"
   ]
  },
  {
   "cell_type": "code",
   "execution_count": 25,
   "metadata": {},
   "outputs": [],
   "source": [
    "# a cell to import modules and define helper functions\n",
    "import math\n",
    "import scipy.stats as ss\n",
    "\n",
    "def calculate_chi_cdf(lower, upper, ddof):\n",
    "    \n",
    "    lower_bound = lower if isinstance(lower, float) else -math.inf\n",
    "    upper_bound = upper if isinstance(upper, float) else math.inf\n",
    "    \n",
    "    # chi2 is for continuous variables\n",
    "    cdf_lower = ss.chi2.cdf(lower_bound, ddof)\n",
    "    cdf_upper = ss.chi2.cdf(upper_bound, ddof)\n",
    "    interval = cdf_upper-cdf_lower\n",
    "    \n",
    "    print(\"Probability of %.2f < X < %.2f is %.3f\" % (lower_bound, upper_bound, interval))\n",
    "    \n",
    "    return interval"
   ]
  },
  {
   "cell_type": "markdown",
   "metadata": {},
   "source": [
    "Conditions for a goodness-of-fit test:\n",
    "* random sampling\n",
    "* large counts (at least 5 expected outcomes in each category)\n",
    "* independent ( <10% of population or sampling with replacement)\n",
    "\n",
    "# Test statistic and P-value in a goodness-of-fit test\n",
    "![](img/chi_squared_p1.png)\n"
   ]
  },
  {
   "cell_type": "code",
   "execution_count": 26,
   "metadata": {},
   "outputs": [
    {
     "name": "stdout",
     "output_type": "stream",
     "text": [
      "Probability of 8.38 < X < inf is 0.079\n"
     ]
    }
   ],
   "source": [
    "# expected probability of events, our null hypothesis\n",
    "P_EXPECTED = [20, 25, 20, 20, 15] # in percents, , must sum up to 100\n",
    "# observed outcomes\n",
    "OBSERVED = [16, 11, 16, 18, 19] # in units\n",
    "\n",
    "# calculating total number of outcomes \n",
    "sample_size = sum(OBSERVED)\n",
    "# expected number of outcomes\n",
    "expected = [ sample_size * x/100 for x in P_EXPECTED ]\n",
    "# degrees of freedom is total number of buckets - 1\n",
    "ddof = len(OBSERVED) - 1\n",
    "\n",
    "# summing squared differences of outcomes divided by expeted outcomes\n",
    "chi_squared = sum((o-e)**2/e for o,e in zip(OBSERVED, expected))\n",
    "\n",
    "p = calculate_chi_cdf(chi_squared, None, ddof)"
   ]
  },
  {
   "cell_type": "code",
   "execution_count": null,
   "metadata": {},
   "outputs": [],
   "source": []
  }
 ],
 "metadata": {
  "kernelspec": {
   "display_name": "Python 3",
   "language": "python",
   "name": "python3"
  },
  "language_info": {
   "codemirror_mode": {
    "name": "ipython",
    "version": 3
   },
   "file_extension": ".py",
   "mimetype": "text/x-python",
   "name": "python",
   "nbconvert_exporter": "python",
   "pygments_lexer": "ipython3",
   "version": "3.6.7"
  }
 },
 "nbformat": 4,
 "nbformat_minor": 2
}
